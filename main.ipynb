{
  "cells": [
    {
      "cell_type": "markdown",
      "metadata": {
        "id": "FaIBmnXCknPl"
      },
      "source": [
        "About the Dataset:\n",
        "\n",
        "1. id: unique id for a news article\n",
        "2. title: the title of a news article\n",
        "3. author: author of the news article\n",
        "4. text: the text of the article; could be incomplete\n",
        "5. label: a label that marks whether the news article is real or fake:\n",
        "           1: Fake news\n",
        "           0: real News\n",
        "\n",
        "\n",
        "\n"
      ]
    },
    {
      "cell_type": "markdown",
      "metadata": {
        "id": "k399dHafvL5N"
      },
      "source": [
        "Importing the Dependencies"
      ]
    },
    {
      "cell_type": "code",
      "execution_count": 1,
      "metadata": {
        "id": "-fetC5yqkPVe"
      },
      "outputs": [],
      "source": [
        "import numpy as np\n",
        "import pandas as pd\n",
        "import re\n",
        "from nltk.corpus import stopwords\n",
        "from nltk.stem.porter import PorterStemmer\n",
        "from sklearn.feature_extraction.text import TfidfVectorizer\n",
        "from sklearn.model_selection import train_test_split\n",
        "from sklearn.linear_model import LogisticRegression\n",
        "from sklearn.metrics import accuracy_score"
      ]
    },
    {
      "cell_type": "code",
      "execution_count": 2,
      "metadata": {
        "colab": {
          "base_uri": "https://localhost:8080/"
        },
        "id": "1AC1YpmGwIDw",
        "outputId": "d2e86385-1131-4701-d8e8-196f38790888"
      },
      "outputs": [
        {
          "name": "stderr",
          "output_type": "stream",
          "text": [
            "[nltk_data] Downloading package stopwords to\n",
            "[nltk_data]     C:\\Users\\priya\\AppData\\Roaming\\nltk_data...\n",
            "[nltk_data]   Package stopwords is already up-to-date!\n"
          ]
        },
        {
          "data": {
            "text/plain": [
              "True"
            ]
          },
          "execution_count": 2,
          "metadata": {},
          "output_type": "execute_result"
        }
      ],
      "source": [
        "import nltk\n",
        "nltk.download('stopwords')"
      ]
    },
    {
      "cell_type": "code",
      "execution_count": 3,
      "metadata": {
        "colab": {
          "base_uri": "https://localhost:8080/"
        },
        "id": "dxIOt3DowpUR",
        "outputId": "49ce0534-747a-4e33-dd82-f61a0b4e794e"
      },
      "outputs": [
        {
          "name": "stdout",
          "output_type": "stream",
          "text": [
            "['i', 'me', 'my', 'myself', 'we', 'our', 'ours', 'ourselves', 'you', \"you're\", \"you've\", \"you'll\", \"you'd\", 'your', 'yours', 'yourself', 'yourselves', 'he', 'him', 'his', 'himself', 'she', \"she's\", 'her', 'hers', 'herself', 'it', \"it's\", 'its', 'itself', 'they', 'them', 'their', 'theirs', 'themselves', 'what', 'which', 'who', 'whom', 'this', 'that', \"that'll\", 'these', 'those', 'am', 'is', 'are', 'was', 'were', 'be', 'been', 'being', 'have', 'has', 'had', 'having', 'do', 'does', 'did', 'doing', 'a', 'an', 'the', 'and', 'but', 'if', 'or', 'because', 'as', 'until', 'while', 'of', 'at', 'by', 'for', 'with', 'about', 'against', 'between', 'into', 'through', 'during', 'before', 'after', 'above', 'below', 'to', 'from', 'up', 'down', 'in', 'out', 'on', 'off', 'over', 'under', 'again', 'further', 'then', 'once', 'here', 'there', 'when', 'where', 'why', 'how', 'all', 'any', 'both', 'each', 'few', 'more', 'most', 'other', 'some', 'such', 'no', 'nor', 'not', 'only', 'own', 'same', 'so', 'than', 'too', 'very', 's', 't', 'can', 'will', 'just', 'don', \"don't\", 'should', \"should've\", 'now', 'd', 'll', 'm', 'o', 're', 've', 'y', 'ain', 'aren', \"aren't\", 'couldn', \"couldn't\", 'didn', \"didn't\", 'doesn', \"doesn't\", 'hadn', \"hadn't\", 'hasn', \"hasn't\", 'haven', \"haven't\", 'isn', \"isn't\", 'ma', 'mightn', \"mightn't\", 'mustn', \"mustn't\", 'needn', \"needn't\", 'shan', \"shan't\", 'shouldn', \"shouldn't\", 'wasn', \"wasn't\", 'weren', \"weren't\", 'won', \"won't\", 'wouldn', \"wouldn't\"]\n"
          ]
        }
      ],
      "source": [
        "# printing the stopwords in English\n",
        "print(stopwords.words('english'))"
      ]
    },
    {
      "cell_type": "markdown",
      "metadata": {
        "id": "NjeGd1CLw_6R"
      },
      "source": [
        "Data Pre-processing"
      ]
    },
    {
      "cell_type": "code",
      "execution_count": 4,
      "metadata": {
        "colab": {
          "base_uri": "https://localhost:8080/",
          "height": 339
        },
        "id": "nCGcpu_1wzLw",
        "outputId": "1ee7a61b-4482-40c6-f776-2231ebf302b3"
      },
      "outputs": [],
      "source": [
        "# loading the dataset to a pandas DataFrame\n",
        "news_dataset = pd.read_csv('WELFake_Dataset.csv')"
      ]
    },
    {
      "cell_type": "code",
      "execution_count": 5,
      "metadata": {
        "colab": {
          "base_uri": "https://localhost:8080/"
        },
        "id": "aRgmbYSbxV4-",
        "outputId": "82bafe4f-211d-47b8-f4ed-a61b77370bc0"
      },
      "outputs": [
        {
          "data": {
            "text/plain": [
              "(72134, 4)"
            ]
          },
          "execution_count": 5,
          "metadata": {},
          "output_type": "execute_result"
        }
      ],
      "source": [
        "news_dataset.shape"
      ]
    },
    {
      "cell_type": "code",
      "execution_count": 6,
      "metadata": {
        "colab": {
          "base_uri": "https://localhost:8080/",
          "height": 198
        },
        "id": "jjJ1eB6RxZaS",
        "outputId": "9bb0c756-30e5-4919-a8e0-a688127261eb"
      },
      "outputs": [
        {
          "data": {
            "text/html": [
              "<div>\n",
              "<style scoped>\n",
              "    .dataframe tbody tr th:only-of-type {\n",
              "        vertical-align: middle;\n",
              "    }\n",
              "\n",
              "    .dataframe tbody tr th {\n",
              "        vertical-align: top;\n",
              "    }\n",
              "\n",
              "    .dataframe thead th {\n",
              "        text-align: right;\n",
              "    }\n",
              "</style>\n",
              "<table border=\"1\" class=\"dataframe\">\n",
              "  <thead>\n",
              "    <tr style=\"text-align: right;\">\n",
              "      <th></th>\n",
              "      <th>Unnamed: 0</th>\n",
              "      <th>title</th>\n",
              "      <th>text</th>\n",
              "      <th>label</th>\n",
              "    </tr>\n",
              "  </thead>\n",
              "  <tbody>\n",
              "    <tr>\n",
              "      <th>0</th>\n",
              "      <td>0</td>\n",
              "      <td>LAW ENFORCEMENT ON HIGH ALERT Following Threat...</td>\n",
              "      <td>No comment is expected from Barack Obama Membe...</td>\n",
              "      <td>1</td>\n",
              "    </tr>\n",
              "    <tr>\n",
              "      <th>1</th>\n",
              "      <td>1</td>\n",
              "      <td>NaN</td>\n",
              "      <td>Did they post their votes for Hillary already?</td>\n",
              "      <td>1</td>\n",
              "    </tr>\n",
              "    <tr>\n",
              "      <th>2</th>\n",
              "      <td>2</td>\n",
              "      <td>UNBELIEVABLE! OBAMA’S ATTORNEY GENERAL SAYS MO...</td>\n",
              "      <td>Now, most of the demonstrators gathered last ...</td>\n",
              "      <td>1</td>\n",
              "    </tr>\n",
              "    <tr>\n",
              "      <th>3</th>\n",
              "      <td>3</td>\n",
              "      <td>Bobby Jindal, raised Hindu, uses story of Chri...</td>\n",
              "      <td>A dozen politically active pastors came here f...</td>\n",
              "      <td>0</td>\n",
              "    </tr>\n",
              "    <tr>\n",
              "      <th>4</th>\n",
              "      <td>4</td>\n",
              "      <td>SATAN 2: Russia unvelis an image of its terrif...</td>\n",
              "      <td>The RS-28 Sarmat missile, dubbed Satan 2, will...</td>\n",
              "      <td>1</td>\n",
              "    </tr>\n",
              "  </tbody>\n",
              "</table>\n",
              "</div>"
            ],
            "text/plain": [
              "   Unnamed: 0                                              title   \n",
              "0           0  LAW ENFORCEMENT ON HIGH ALERT Following Threat...  \\\n",
              "1           1                                                NaN   \n",
              "2           2  UNBELIEVABLE! OBAMA’S ATTORNEY GENERAL SAYS MO...   \n",
              "3           3  Bobby Jindal, raised Hindu, uses story of Chri...   \n",
              "4           4  SATAN 2: Russia unvelis an image of its terrif...   \n",
              "\n",
              "                                                text  label  \n",
              "0  No comment is expected from Barack Obama Membe...      1  \n",
              "1     Did they post their votes for Hillary already?      1  \n",
              "2   Now, most of the demonstrators gathered last ...      1  \n",
              "3  A dozen politically active pastors came here f...      0  \n",
              "4  The RS-28 Sarmat missile, dubbed Satan 2, will...      1  "
            ]
          },
          "execution_count": 6,
          "metadata": {},
          "output_type": "execute_result"
        }
      ],
      "source": [
        "# print the first 5 rows of the dataframe\n",
        "news_dataset.head()"
      ]
    },
    {
      "cell_type": "code",
      "execution_count": 7,
      "metadata": {
        "colab": {
          "base_uri": "https://localhost:8080/"
        },
        "id": "QYkDi4SwxlKi",
        "outputId": "204c4b11-2d09-4c3e-ff1f-4ee9d3c5bc92"
      },
      "outputs": [
        {
          "data": {
            "text/plain": [
              "Unnamed: 0      0\n",
              "title         558\n",
              "text           39\n",
              "label           0\n",
              "dtype: int64"
            ]
          },
          "execution_count": 7,
          "metadata": {},
          "output_type": "execute_result"
        }
      ],
      "source": [
        "# counting the number of missing values in the dataset\n",
        "news_dataset.isnull().sum()"
      ]
    },
    {
      "cell_type": "code",
      "execution_count": 8,
      "metadata": {
        "id": "Mc04lQrhx57m"
      },
      "outputs": [],
      "source": [
        "# replacing the null values with empty string\n",
        "news_dataset = news_dataset.fillna('')"
      ]
    },
    {
      "cell_type": "code",
      "execution_count": 9,
      "metadata": {
        "id": "H7TZgHszygxj"
      },
      "outputs": [],
      "source": [
        "# merging the author name and news title\n",
        "news_dataset['content'] = news_dataset['title']+' '+news_dataset['text']"
      ]
    },
    {
      "cell_type": "code",
      "execution_count": 10,
      "metadata": {
        "colab": {
          "base_uri": "https://localhost:8080/"
        },
        "id": "cbF6GBBpzBey",
        "outputId": "f7776d4b-ab23-468c-8aa7-2ecbb67d7487"
      },
      "outputs": [
        {
          "name": "stdout",
          "output_type": "stream",
          "text": [
            "0        LAW ENFORCEMENT ON HIGH ALERT Following Threat...\n",
            "1           Did they post their votes for Hillary already?\n",
            "2        UNBELIEVABLE! OBAMA’S ATTORNEY GENERAL SAYS MO...\n",
            "3        Bobby Jindal, raised Hindu, uses story of Chri...\n",
            "4        SATAN 2: Russia unvelis an image of its terrif...\n",
            "                               ...                        \n",
            "72129    Russians steal research on Trump in hack of U....\n",
            "72130     WATCH: Giuliani Demands That Democrats Apolog...\n",
            "72131    Migrants Refuse To Leave Train At Refugee Camp...\n",
            "72132    Trump tussle gives unpopular Mexican leader mu...\n",
            "72133    Goldman Sachs Endorses Hillary Clinton For Pre...\n",
            "Name: content, Length: 72134, dtype: object\n"
          ]
        }
      ],
      "source": [
        "print(news_dataset['content'])"
      ]
    },
    {
      "cell_type": "code",
      "execution_count": 11,
      "metadata": {
        "id": "LfBtAvLtzEo6"
      },
      "outputs": [],
      "source": [
        "# separating the data & label\n",
        "X = news_dataset.drop(columns='label', axis=1)\n",
        "Y = news_dataset['label']"
      ]
    },
    {
      "cell_type": "code",
      "execution_count": 12,
      "metadata": {
        "colab": {
          "base_uri": "https://localhost:8080/"
        },
        "id": "oHPBr540zl1h",
        "outputId": "45a8b684-6d35-43d4-f24f-8a8a091b69ad"
      },
      "outputs": [
        {
          "name": "stdout",
          "output_type": "stream",
          "text": [
            "       Unnamed: 0                                              title   \n",
            "0               0  LAW ENFORCEMENT ON HIGH ALERT Following Threat...  \\\n",
            "1               1                                                      \n",
            "2               2  UNBELIEVABLE! OBAMA’S ATTORNEY GENERAL SAYS MO...   \n",
            "3               3  Bobby Jindal, raised Hindu, uses story of Chri...   \n",
            "4               4  SATAN 2: Russia unvelis an image of its terrif...   \n",
            "...           ...                                                ...   \n",
            "72129       72129  Russians steal research on Trump in hack of U....   \n",
            "72130       72130   WATCH: Giuliani Demands That Democrats Apolog...   \n",
            "72131       72131  Migrants Refuse To Leave Train At Refugee Camp...   \n",
            "72132       72132  Trump tussle gives unpopular Mexican leader mu...   \n",
            "72133       72133  Goldman Sachs Endorses Hillary Clinton For Pre...   \n",
            "\n",
            "                                                    text   \n",
            "0      No comment is expected from Barack Obama Membe...  \\\n",
            "1         Did they post their votes for Hillary already?   \n",
            "2       Now, most of the demonstrators gathered last ...   \n",
            "3      A dozen politically active pastors came here f...   \n",
            "4      The RS-28 Sarmat missile, dubbed Satan 2, will...   \n",
            "...                                                  ...   \n",
            "72129  WASHINGTON (Reuters) - Hackers believed to be ...   \n",
            "72130  You know, because in fantasyland Republicans n...   \n",
            "72131  Migrants Refuse To Leave Train At Refugee Camp...   \n",
            "72132  MEXICO CITY (Reuters) - Donald Trump’s combati...   \n",
            "72133  Goldman Sachs Endorses Hillary Clinton For Pre...   \n",
            "\n",
            "                                                 content  \n",
            "0      LAW ENFORCEMENT ON HIGH ALERT Following Threat...  \n",
            "1         Did they post their votes for Hillary already?  \n",
            "2      UNBELIEVABLE! OBAMA’S ATTORNEY GENERAL SAYS MO...  \n",
            "3      Bobby Jindal, raised Hindu, uses story of Chri...  \n",
            "4      SATAN 2: Russia unvelis an image of its terrif...  \n",
            "...                                                  ...  \n",
            "72129  Russians steal research on Trump in hack of U....  \n",
            "72130   WATCH: Giuliani Demands That Democrats Apolog...  \n",
            "72131  Migrants Refuse To Leave Train At Refugee Camp...  \n",
            "72132  Trump tussle gives unpopular Mexican leader mu...  \n",
            "72133  Goldman Sachs Endorses Hillary Clinton For Pre...  \n",
            "\n",
            "[72134 rows x 4 columns]\n",
            "0        1\n",
            "1        1\n",
            "2        1\n",
            "3        0\n",
            "4        1\n",
            "        ..\n",
            "72129    0\n",
            "72130    1\n",
            "72131    0\n",
            "72132    0\n",
            "72133    1\n",
            "Name: label, Length: 72134, dtype: int64\n"
          ]
        }
      ],
      "source": [
        "print(X)\n",
        "print(Y)"
      ]
    },
    {
      "cell_type": "markdown",
      "metadata": {
        "id": "0NwFcpqcz37a"
      },
      "source": [
        "Stemming:\n",
        "\n",
        "Stemming is the process of reducing a word to its Root word\n",
        "\n",
        "example:\n",
        "actor, actress, acting --> act"
      ]
    },
    {
      "cell_type": "code",
      "execution_count": 13,
      "metadata": {
        "id": "Ga_DaZxhzoWM"
      },
      "outputs": [],
      "source": [
        "port_stem = PorterStemmer()"
      ]
    },
    {
      "cell_type": "code",
      "execution_count": 14,
      "metadata": {
        "id": "zY-n0dCh0e-y"
      },
      "outputs": [],
      "source": [
        "def stemming(content):\n",
        "    stemmed_content = re.sub('[^a-zA-Z]',' ',content)\n",
        "    stemmed_content = stemmed_content.lower()\n",
        "    stemmed_content = stemmed_content.split()\n",
        "    stemmed_content = [port_stem.stem(word) for word in stemmed_content if not word in stopwords.words('english')]\n",
        "    stemmed_content = ' '.join(stemmed_content)\n",
        "    return stemmed_content"
      ]
    },
    {
      "cell_type": "code",
      "execution_count": 15,
      "metadata": {
        "id": "MBUIk4c94yTL"
      },
      "outputs": [
        {
          "ename": "KeyboardInterrupt",
          "evalue": "",
          "output_type": "error",
          "traceback": [
            "\u001b[1;31m---------------------------------------------------------------------------\u001b[0m",
            "\u001b[1;31mKeyboardInterrupt\u001b[0m                         Traceback (most recent call last)",
            "\u001b[1;32mc:\\Users\\priya\\OneDrive\\Desktop\\UB\\Fall '23\\CSE574_Machine_Learning\\Fake News Classification\\main.ipynb Cell 19\u001b[0m line \u001b[0;36m1\n\u001b[1;32m----> <a href='vscode-notebook-cell:/c%3A/Users/priya/OneDrive/Desktop/UB/Fall%20%2723/CSE574_Machine_Learning/Fake%20News%20Classification/main.ipynb#X24sZmlsZQ%3D%3D?line=0'>1</a>\u001b[0m news_dataset[\u001b[39m'\u001b[39m\u001b[39mcontent\u001b[39m\u001b[39m'\u001b[39m] \u001b[39m=\u001b[39m news_dataset[\u001b[39m'\u001b[39;49m\u001b[39mcontent\u001b[39;49m\u001b[39m'\u001b[39;49m]\u001b[39m.\u001b[39;49mapply(stemming)\n",
            "File \u001b[1;32m~\\AppData\\Local\\Packages\\PythonSoftwareFoundation.Python.3.11_qbz5n2kfra8p0\\LocalCache\\local-packages\\Python311\\site-packages\\pandas\\core\\series.py:4626\u001b[0m, in \u001b[0;36mSeries.apply\u001b[1;34m(self, func, convert_dtype, args, **kwargs)\u001b[0m\n\u001b[0;32m   4516\u001b[0m \u001b[39mdef\u001b[39;00m \u001b[39mapply\u001b[39m(\n\u001b[0;32m   4517\u001b[0m     \u001b[39mself\u001b[39m,\n\u001b[0;32m   4518\u001b[0m     func: AggFuncType,\n\u001b[1;32m   (...)\u001b[0m\n\u001b[0;32m   4521\u001b[0m     \u001b[39m*\u001b[39m\u001b[39m*\u001b[39mkwargs,\n\u001b[0;32m   4522\u001b[0m ) \u001b[39m-\u001b[39m\u001b[39m>\u001b[39m DataFrame \u001b[39m|\u001b[39m Series:\n\u001b[0;32m   4523\u001b[0m \u001b[39m    \u001b[39m\u001b[39m\"\"\"\u001b[39;00m\n\u001b[0;32m   4524\u001b[0m \u001b[39m    Invoke function on values of Series.\u001b[39;00m\n\u001b[0;32m   4525\u001b[0m \n\u001b[1;32m   (...)\u001b[0m\n\u001b[0;32m   4624\u001b[0m \u001b[39m    dtype: float64\u001b[39;00m\n\u001b[0;32m   4625\u001b[0m \u001b[39m    \"\"\"\u001b[39;00m\n\u001b[1;32m-> 4626\u001b[0m     \u001b[39mreturn\u001b[39;00m SeriesApply(\u001b[39mself\u001b[39;49m, func, convert_dtype, args, kwargs)\u001b[39m.\u001b[39;49mapply()\n",
            "File \u001b[1;32m~\\AppData\\Local\\Packages\\PythonSoftwareFoundation.Python.3.11_qbz5n2kfra8p0\\LocalCache\\local-packages\\Python311\\site-packages\\pandas\\core\\apply.py:1025\u001b[0m, in \u001b[0;36mSeriesApply.apply\u001b[1;34m(self)\u001b[0m\n\u001b[0;32m   1022\u001b[0m     \u001b[39mreturn\u001b[39;00m \u001b[39mself\u001b[39m\u001b[39m.\u001b[39mapply_str()\n\u001b[0;32m   1024\u001b[0m \u001b[39m# self.f is Callable\u001b[39;00m\n\u001b[1;32m-> 1025\u001b[0m \u001b[39mreturn\u001b[39;00m \u001b[39mself\u001b[39;49m\u001b[39m.\u001b[39;49mapply_standard()\n",
            "File \u001b[1;32m~\\AppData\\Local\\Packages\\PythonSoftwareFoundation.Python.3.11_qbz5n2kfra8p0\\LocalCache\\local-packages\\Python311\\site-packages\\pandas\\core\\apply.py:1076\u001b[0m, in \u001b[0;36mSeriesApply.apply_standard\u001b[1;34m(self)\u001b[0m\n\u001b[0;32m   1074\u001b[0m     \u001b[39melse\u001b[39;00m:\n\u001b[0;32m   1075\u001b[0m         values \u001b[39m=\u001b[39m obj\u001b[39m.\u001b[39mastype(\u001b[39mobject\u001b[39m)\u001b[39m.\u001b[39m_values\n\u001b[1;32m-> 1076\u001b[0m         mapped \u001b[39m=\u001b[39m lib\u001b[39m.\u001b[39;49mmap_infer(\n\u001b[0;32m   1077\u001b[0m             values,\n\u001b[0;32m   1078\u001b[0m             f,\n\u001b[0;32m   1079\u001b[0m             convert\u001b[39m=\u001b[39;49m\u001b[39mself\u001b[39;49m\u001b[39m.\u001b[39;49mconvert_dtype,\n\u001b[0;32m   1080\u001b[0m         )\n\u001b[0;32m   1082\u001b[0m \u001b[39mif\u001b[39;00m \u001b[39mlen\u001b[39m(mapped) \u001b[39mand\u001b[39;00m \u001b[39misinstance\u001b[39m(mapped[\u001b[39m0\u001b[39m], ABCSeries):\n\u001b[0;32m   1083\u001b[0m     \u001b[39m# GH#43986 Need to do list(mapped) in order to get treated as nested\u001b[39;00m\n\u001b[0;32m   1084\u001b[0m     \u001b[39m#  See also GH#25959 regarding EA support\u001b[39;00m\n\u001b[0;32m   1085\u001b[0m     \u001b[39mreturn\u001b[39;00m obj\u001b[39m.\u001b[39m_constructor_expanddim(\u001b[39mlist\u001b[39m(mapped), index\u001b[39m=\u001b[39mobj\u001b[39m.\u001b[39mindex)\n",
            "File \u001b[1;32m~\\AppData\\Local\\Packages\\PythonSoftwareFoundation.Python.3.11_qbz5n2kfra8p0\\LocalCache\\local-packages\\Python311\\site-packages\\pandas\\_libs\\lib.pyx:2834\u001b[0m, in \u001b[0;36mpandas._libs.lib.map_infer\u001b[1;34m()\u001b[0m\n",
            "\u001b[1;32mc:\\Users\\priya\\OneDrive\\Desktop\\UB\\Fall '23\\CSE574_Machine_Learning\\Fake News Classification\\main.ipynb Cell 19\u001b[0m line \u001b[0;36m5\n\u001b[0;32m      <a href='vscode-notebook-cell:/c%3A/Users/priya/OneDrive/Desktop/UB/Fall%20%2723/CSE574_Machine_Learning/Fake%20News%20Classification/main.ipynb#X24sZmlsZQ%3D%3D?line=2'>3</a>\u001b[0m stemmed_content \u001b[39m=\u001b[39m stemmed_content\u001b[39m.\u001b[39mlower()\n\u001b[0;32m      <a href='vscode-notebook-cell:/c%3A/Users/priya/OneDrive/Desktop/UB/Fall%20%2723/CSE574_Machine_Learning/Fake%20News%20Classification/main.ipynb#X24sZmlsZQ%3D%3D?line=3'>4</a>\u001b[0m stemmed_content \u001b[39m=\u001b[39m stemmed_content\u001b[39m.\u001b[39msplit()\n\u001b[1;32m----> <a href='vscode-notebook-cell:/c%3A/Users/priya/OneDrive/Desktop/UB/Fall%20%2723/CSE574_Machine_Learning/Fake%20News%20Classification/main.ipynb#X24sZmlsZQ%3D%3D?line=4'>5</a>\u001b[0m stemmed_content \u001b[39m=\u001b[39m [port_stem\u001b[39m.\u001b[39;49mstem(word) \u001b[39mfor\u001b[39;49;00m word \u001b[39min\u001b[39;49;00m stemmed_content \u001b[39mif\u001b[39;49;00m \u001b[39mnot\u001b[39;49;00m word \u001b[39min\u001b[39;49;00m stopwords\u001b[39m.\u001b[39;49mwords(\u001b[39m'\u001b[39;49m\u001b[39menglish\u001b[39;49m\u001b[39m'\u001b[39;49m)]\n\u001b[0;32m      <a href='vscode-notebook-cell:/c%3A/Users/priya/OneDrive/Desktop/UB/Fall%20%2723/CSE574_Machine_Learning/Fake%20News%20Classification/main.ipynb#X24sZmlsZQ%3D%3D?line=5'>6</a>\u001b[0m stemmed_content \u001b[39m=\u001b[39m \u001b[39m'\u001b[39m\u001b[39m \u001b[39m\u001b[39m'\u001b[39m\u001b[39m.\u001b[39mjoin(stemmed_content)\n\u001b[0;32m      <a href='vscode-notebook-cell:/c%3A/Users/priya/OneDrive/Desktop/UB/Fall%20%2723/CSE574_Machine_Learning/Fake%20News%20Classification/main.ipynb#X24sZmlsZQ%3D%3D?line=6'>7</a>\u001b[0m \u001b[39mreturn\u001b[39;00m stemmed_content\n",
            "\u001b[1;32mc:\\Users\\priya\\OneDrive\\Desktop\\UB\\Fall '23\\CSE574_Machine_Learning\\Fake News Classification\\main.ipynb Cell 19\u001b[0m line \u001b[0;36m5\n\u001b[0;32m      <a href='vscode-notebook-cell:/c%3A/Users/priya/OneDrive/Desktop/UB/Fall%20%2723/CSE574_Machine_Learning/Fake%20News%20Classification/main.ipynb#X24sZmlsZQ%3D%3D?line=2'>3</a>\u001b[0m stemmed_content \u001b[39m=\u001b[39m stemmed_content\u001b[39m.\u001b[39mlower()\n\u001b[0;32m      <a href='vscode-notebook-cell:/c%3A/Users/priya/OneDrive/Desktop/UB/Fall%20%2723/CSE574_Machine_Learning/Fake%20News%20Classification/main.ipynb#X24sZmlsZQ%3D%3D?line=3'>4</a>\u001b[0m stemmed_content \u001b[39m=\u001b[39m stemmed_content\u001b[39m.\u001b[39msplit()\n\u001b[1;32m----> <a href='vscode-notebook-cell:/c%3A/Users/priya/OneDrive/Desktop/UB/Fall%20%2723/CSE574_Machine_Learning/Fake%20News%20Classification/main.ipynb#X24sZmlsZQ%3D%3D?line=4'>5</a>\u001b[0m stemmed_content \u001b[39m=\u001b[39m [port_stem\u001b[39m.\u001b[39mstem(word) \u001b[39mfor\u001b[39;00m word \u001b[39min\u001b[39;00m stemmed_content \u001b[39mif\u001b[39;00m \u001b[39mnot\u001b[39;00m word \u001b[39min\u001b[39;00m stopwords\u001b[39m.\u001b[39;49mwords(\u001b[39m'\u001b[39;49m\u001b[39menglish\u001b[39;49m\u001b[39m'\u001b[39;49m)]\n\u001b[0;32m      <a href='vscode-notebook-cell:/c%3A/Users/priya/OneDrive/Desktop/UB/Fall%20%2723/CSE574_Machine_Learning/Fake%20News%20Classification/main.ipynb#X24sZmlsZQ%3D%3D?line=5'>6</a>\u001b[0m stemmed_content \u001b[39m=\u001b[39m \u001b[39m'\u001b[39m\u001b[39m \u001b[39m\u001b[39m'\u001b[39m\u001b[39m.\u001b[39mjoin(stemmed_content)\n\u001b[0;32m      <a href='vscode-notebook-cell:/c%3A/Users/priya/OneDrive/Desktop/UB/Fall%20%2723/CSE574_Machine_Learning/Fake%20News%20Classification/main.ipynb#X24sZmlsZQ%3D%3D?line=6'>7</a>\u001b[0m \u001b[39mreturn\u001b[39;00m stemmed_content\n",
            "File \u001b[1;32m~\\AppData\\Local\\Packages\\PythonSoftwareFoundation.Python.3.11_qbz5n2kfra8p0\\LocalCache\\local-packages\\Python311\\site-packages\\nltk\\corpus\\reader\\wordlist.py:21\u001b[0m, in \u001b[0;36mWordListCorpusReader.words\u001b[1;34m(self, fileids, ignore_lines_startswith)\u001b[0m\n\u001b[0;32m     18\u001b[0m \u001b[39mdef\u001b[39;00m \u001b[39mwords\u001b[39m(\u001b[39mself\u001b[39m, fileids\u001b[39m=\u001b[39m\u001b[39mNone\u001b[39;00m, ignore_lines_startswith\u001b[39m=\u001b[39m\u001b[39m\"\u001b[39m\u001b[39m\\n\u001b[39;00m\u001b[39m\"\u001b[39m):\n\u001b[0;32m     19\u001b[0m     \u001b[39mreturn\u001b[39;00m [\n\u001b[0;32m     20\u001b[0m         line\n\u001b[1;32m---> 21\u001b[0m         \u001b[39mfor\u001b[39;00m line \u001b[39min\u001b[39;00m line_tokenize(\u001b[39mself\u001b[39;49m\u001b[39m.\u001b[39;49mraw(fileids))\n\u001b[0;32m     22\u001b[0m         \u001b[39mif\u001b[39;00m \u001b[39mnot\u001b[39;00m line\u001b[39m.\u001b[39mstartswith(ignore_lines_startswith)\n\u001b[0;32m     23\u001b[0m     ]\n",
            "File \u001b[1;32m~\\AppData\\Local\\Packages\\PythonSoftwareFoundation.Python.3.11_qbz5n2kfra8p0\\LocalCache\\local-packages\\Python311\\site-packages\\nltk\\corpus\\reader\\api.py:218\u001b[0m, in \u001b[0;36mCorpusReader.raw\u001b[1;34m(self, fileids)\u001b[0m\n\u001b[0;32m    216\u001b[0m contents \u001b[39m=\u001b[39m []\n\u001b[0;32m    217\u001b[0m \u001b[39mfor\u001b[39;00m f \u001b[39min\u001b[39;00m fileids:\n\u001b[1;32m--> 218\u001b[0m     \u001b[39mwith\u001b[39;49;00m \u001b[39mself\u001b[39;49m\u001b[39m.\u001b[39;49mopen(f) \u001b[39mas\u001b[39;49;00m fp:\n\u001b[0;32m    219\u001b[0m         contents\u001b[39m.\u001b[39;49mappend(fp\u001b[39m.\u001b[39;49mread())\n\u001b[0;32m    220\u001b[0m \u001b[39mreturn\u001b[39;00m concat(contents)\n",
            "File \u001b[1;32m~\\AppData\\Local\\Packages\\PythonSoftwareFoundation.Python.3.11_qbz5n2kfra8p0\\LocalCache\\local-packages\\Python311\\site-packages\\nltk\\data.py:1167\u001b[0m, in \u001b[0;36mSeekableUnicodeStreamReader.__exit__\u001b[1;34m(self, type, value, traceback)\u001b[0m\n\u001b[0;32m   1166\u001b[0m \u001b[39mdef\u001b[39;00m \u001b[39m__exit__\u001b[39m(\u001b[39mself\u001b[39m, \u001b[39mtype\u001b[39m, value, traceback):\n\u001b[1;32m-> 1167\u001b[0m     \u001b[39mself\u001b[39;49m\u001b[39m.\u001b[39;49mclose()\n",
            "File \u001b[1;32m~\\AppData\\Local\\Packages\\PythonSoftwareFoundation.Python.3.11_qbz5n2kfra8p0\\LocalCache\\local-packages\\Python311\\site-packages\\nltk\\data.py:1196\u001b[0m, in \u001b[0;36mSeekableUnicodeStreamReader.close\u001b[1;34m(self)\u001b[0m\n\u001b[0;32m   1192\u001b[0m \u001b[39mdef\u001b[39;00m \u001b[39mclose\u001b[39m(\u001b[39mself\u001b[39m):\n\u001b[0;32m   1193\u001b[0m \u001b[39m    \u001b[39m\u001b[39m\"\"\"\u001b[39;00m\n\u001b[0;32m   1194\u001b[0m \u001b[39m    Close the underlying stream.\u001b[39;00m\n\u001b[0;32m   1195\u001b[0m \u001b[39m    \"\"\"\u001b[39;00m\n\u001b[1;32m-> 1196\u001b[0m     \u001b[39mself\u001b[39m\u001b[39m.\u001b[39mstream\u001b[39m.\u001b[39mclose()\n",
            "\u001b[1;31mKeyboardInterrupt\u001b[0m: "
          ]
        }
      ],
      "source": [
        "news_dataset['content'] = news_dataset['content'].apply(stemming)"
      ]
    },
    {
      "cell_type": "code",
      "execution_count": null,
      "metadata": {
        "colab": {
          "base_uri": "https://localhost:8080/"
        },
        "id": "xmwK-zyO5Stg",
        "outputId": "61de12b9-b9fa-486f-8c91-a5aec48d7fe6"
      },
      "outputs": [
        {
          "name": "stdout",
          "output_type": "stream",
          "text": [
            "0        law enforc high alert follow threat cop white ...\n",
            "1                                post vote hillari alreadi\n",
            "2        unbeliev obama attorney gener say charlott rio...\n",
            "3        bobbi jindal rais hindu use stori christian co...\n",
            "4        satan russia unv imag terrifi new supernuk wes...\n",
            "                               ...                        \n",
            "72129    russian steal research trump hack u democrat p...\n",
            "72130    watch giuliani demand democrat apolog trump ra...\n",
            "72131    migrant refus leav train refuge camp hungari m...\n",
            "72132    trump tussl give unpopular mexican leader much...\n",
            "72133    goldman sach endors hillari clinton presid gol...\n",
            "Name: content, Length: 72134, dtype: object\n"
          ]
        }
      ],
      "source": [
        "print(news_dataset['content'])"
      ]
    },
    {
      "cell_type": "code",
      "execution_count": null,
      "metadata": {
        "id": "5ZIidnta5k5h"
      },
      "outputs": [],
      "source": [
        "#separating the data and label\n",
        "X = news_dataset['content'].values\n",
        "Y = news_dataset['label'].values"
      ]
    },
    {
      "cell_type": "code",
      "execution_count": null,
      "metadata": {
        "colab": {
          "base_uri": "https://localhost:8080/"
        },
        "id": "3nA_SBZX6BeH",
        "outputId": "3990e651-a18a-4191-c361-6854aa327caa"
      },
      "outputs": [
        {
          "name": "stdout",
          "output_type": "stream",
          "text": [
            "['law enforc high alert follow threat cop white blacklivesmatt fyf terrorist video comment expect barack obama member fyf fukyoflag blacklivesmatt movement call lynch hang white peopl cop encourag other radio show tuesday night turn tide kill white peopl cop send messag kill black peopl america one f yoflag organ call sunshin radio blog show host texa call sunshin f ing opinion radio show snapshot fyf lolatwhitefear twitter page p show urg support call fyf tonight continu dismantl illus white snapshot twitter radio call invit fyf radio show air p eastern standard time show caller clearli call lynch kill white peopl minut clip radio show heard provid breitbart texa someon would like refer hannib alreadi receiv death threat result interrupt fyf confer call unidentifi black man said mother f ker start f ing like us bunch ni er takin one us roll said caus alreadi roll gang anyway six seven black mother f cker see white person lynch ass let turn tabl conspir cop start lose peopl state emerg specul one two thing would happen big ass r war ni er go start backin alreadi get kill f k got lose sunshin could heard say yep true f king true said need turn tabl kid get shot somebodi need becom sacrific side said everybodi whatev like say everybodi differ posit war continu give f k anyway said might well util turn tabl n er said way start lookin like havin mani casualti causal side instead kill black peopl black live matter mother f ker got make matter find mother f ker alon snap ass f hang damn tree take pictur send mother f ker need one exampl peopl start watchin turn tabl said said start trickl effect said one white person hung flat hang start trickl effect continu black peopl good start trend said get upper hand anoth black man spoke say need kill cop kill us first black male said best method right breitbart texa previous report sunshin upset racist white peopl infiltr disrupt one confer call subsequ releas phone number one infiltr veteran immedi start receiv threaten call one f yoflag movement support allegedli told veteran infiltr publicli post confer call go rape gut pregnant wife f ing piec sh unborn creatur hung tree breitbart texa previous encount sunshin sandra bland protest waller counti jail texa said white peopl kill told journalist photograph see nappi ass hair head mean one milit negro said protest redneck mother f ker murder sandra bland nappi hair like fyf black radic say hold imperi power actual respons terrorist attack septemb th account day report breitbart texa sever websit twitter handl movement palmetto star describ one head organ said youtub video support burn symbol illus superior fals white supremaci like american flag british flag polic uniform ku klux klan hood sierra mcgrone nocturnu libertu post help young afrikan clean rag oppress post two photo one appear photo black man wipe nake butt american flag entir stori breitbart news'\n",
            " 'post vote hillari alreadi'\n",
            " 'unbeliev obama attorney gener say charlott rioter peac protest home state north carolina video demonstr gather last night exercis constitut protect right peac protest order rais issu creat chang loretta lynch aka eric holder skirt'\n",
            " ...\n",
            " 'migrant refus leav train refuge camp hungari migrant refus leav train refuge camp hungari thousand migrant flood train station hungarian capit thursday polic lift two day blockad board train thought go germani end instead refuge camp mile budapest associ press report excit migrant pile newli arriv train keleti station hungari capit despit announc hungarian english servic station western europ cancel statement main departur board said train austria germani would depart due safeti reason notic mani migrant understand either languag receiv advic hungarian offici scrambl aboard stand room crush hope best ap said scuffl broke polic order passeng train bicsk accord bbc meanwhil hungari prime minist say countri manag grow migrant crisi even european offici said meet month brussel discuss effort strengthen european respons situat viktor orban said influx refuge countri realli german problem intend destin hungarian along european full fear say see european leader among prime minist abl control situat would creat imag come readi accept everybodi would moral failur case orban said meet european parliament presid martin schulz accord washington post moral human thing make clear pleas come go turkey europ turkey safe countri stay riski come meanwhil voic america report british french german offici call urgent action plan hold talk sept brussel address crisi voa report three minist also call better process migrant itali greec report unit nation believ migrant set europ north africa middl east mediterranean sea far year percent increas last year npr middl east editor larri kaplow write given day hundr peopl perhap thousand drift ship cling boat littl inflat raft go way jump fenc morocco get spanish territori cram truck turkey ride train across europ'\n",
            " 'trump tussl give unpopular mexican leader much need shot arm mexico citi reuter donald trump comb style buffet mexico presid month deepli unpopular enriqu pena nieto may end thank new u presid prompt offend mexican ralli behind leader billionair busi magnat carlo slim polit oppon groundswel support pena nieto cut lone figur month bruis encount trump often refer initi epn pena nieto labor worst approv rate mexican presid decad due discont corrupt gang violenc sluggish growth jump fuel price trump threat scrap nafta trade deal mexico build border wall caus anger left mexican feel fear futur challeng pena nieto thursday say skip plan summit two leader mexico will pay wall final straw pena nieto repli coupl hour later cancel meet trump one presid biggest ever hit twitter get like person broke news captur notori drug lord joaquin el chapo guzman januari last year bravo epn cheer former presid vicent fox initi condemn pena nieto invit trump mexico talk last august wage color explet ridden campaign republican twitter pena nieto trump talk hour phone friday pledg work differ agre speak wall public meanwhil call uniti grew mexico led slim normal media shi year old gave minut news confer support govern friday surpris exampl nation uniti seen life said slim spent sever year past decad world richest man back presid mexico defend nation interest senior opposit leader also urg common front time show uniti commit mexico alejandra barral head center left parti democrat revolut prd said twitter pena nieto credibl batter widespread public percept fail battl corrupt inde even encourag sinc conflict interest row embroil wife top minist late opposit critic fear govern tri use trump screen distract fail howev two senior offici told reuter hope pena nieto would seiz moment act quickli decis improv imag express dismay trump behavior toward mexico almost becom nation pastim talk boycott u compani gather steam social media slim ask boycot news confer said good idea turn u compani creat job mexico foreign compani voic support mexico feel mexico subject terror moment said andrea schindler co owner german fruit wholesal limon parent pilz schindler phone hamburg right behind mexico'\n",
            " 'goldman sach endors hillari clinton presid goldman sach endors hillari clinton presid goldman sach realli choic cycl octob sociabl share lloyd blankfein ceo goldman sach greet hillari clinton panel discuss clinton global initi sept new york publish partnership shadowproof sunday former secretari state hillari clinton earn endors goldman sach ceo lloyd blankfein endors work toward year reveal wikileak hillari clinton spent run presidenti campaign give speech goldman sach wall street bank prais talent explain posit financi regul octob clinton told goldman sach dodd frank done mostli polit reason congress need look like someth crisi said noth magic regul much bad littl bad get golden key figur work peopl know industri better anybodi peopl work industri ye essenti endors wall street write rule wall street know busi best complain goldman sach regul frighten banker mean right mani place countri bank need scare regul scare shoe drop plain scare credit flow way need restart econom growth clinton said peopl know littl still uncertain uncertain know might come next term regul also uncertain chang global economi begin take hold music wall street ear goldman sach realli choic cycl pay hillari clinton three speech gener support polit career despit privat comment goldman sach hillari clinton taken tough public posit wall street campaign like due senat berni sander success primari cours wikileak also reveal clinton told nation multi hous council privat speech need public privat posit real question blankfein goldman want return clinton privat posit give sociabl share']\n"
          ]
        }
      ],
      "source": [
        "print(X)"
      ]
    },
    {
      "cell_type": "code",
      "execution_count": null,
      "metadata": {
        "colab": {
          "base_uri": "https://localhost:8080/"
        },
        "id": "NgkFGXkg6HS4",
        "outputId": "c01c5aea-ece5-462b-f14f-a448409d0aa7"
      },
      "outputs": [
        {
          "name": "stdout",
          "output_type": "stream",
          "text": [
            "[1 1 1 ... 0 0 1]\n"
          ]
        }
      ],
      "source": [
        "print(Y)"
      ]
    },
    {
      "cell_type": "code",
      "execution_count": null,
      "metadata": {
        "colab": {
          "base_uri": "https://localhost:8080/"
        },
        "id": "Iu2ZEBkL6QTm",
        "outputId": "cbb35faa-bd75-4fee-a2ba-f85f874fe068"
      },
      "outputs": [
        {
          "data": {
            "text/plain": [
              "(72134,)"
            ]
          },
          "execution_count": 32,
          "metadata": {},
          "output_type": "execute_result"
        }
      ],
      "source": [
        "Y.shape"
      ]
    },
    {
      "cell_type": "code",
      "execution_count": null,
      "metadata": {
        "id": "BMfepsQZ6TES"
      },
      "outputs": [],
      "source": [
        "# converting the textual data to numerical data\n",
        "vectorizer = TfidfVectorizer()\n",
        "vectorizer.fit(X)\n",
        "\n",
        "X = vectorizer.transform(X)"
      ]
    },
    {
      "cell_type": "code",
      "execution_count": null,
      "metadata": {
        "colab": {
          "base_uri": "https://localhost:8080/"
        },
        "id": "MJj5esbs7Nzy",
        "outputId": "381f4859-7593-474e-a827-f1f4de5bd894"
      },
      "outputs": [
        {
          "name": "stdout",
          "output_type": "stream",
          "text": [
            "  (0, 159761)\t0.02533556552894178\n",
            "  (0, 159690)\t0.020611476647865543\n",
            "  (0, 159484)\t0.13385632668128908\n",
            "  (0, 159064)\t0.04318339777665147\n",
            "  (0, 156976)\t0.01912014408259285\n",
            "  (0, 155960)\t0.0333192711304864\n",
            "  (0, 155526)\t0.02255328861202601\n",
            "  (0, 155180)\t0.14064769614500383\n",
            "  (0, 154994)\t0.024407386501887226\n",
            "  (0, 154499)\t0.013775254313738109\n",
            "  (0, 154206)\t0.022173267593990836\n",
            "  (0, 153916)\t0.013075187067122355\n",
            "  (0, 153772)\t0.06456701422335147\n",
            "  (0, 153492)\t0.03328700044691268\n",
            "  (0, 153304)\t0.054818930110913426\n",
            "  (0, 151303)\t0.02956689749550177\n",
            "  (0, 151034)\t0.049948005155919975\n",
            "  (0, 149211)\t0.03167812356427432\n",
            "  (0, 148929)\t0.041301110660381765\n",
            "  (0, 148842)\t0.0217377974446589\n",
            "  (0, 148721)\t0.028254499184856265\n",
            "  (0, 148698)\t0.03198727413895322\n",
            "  (0, 147770)\t0.03211863257126651\n",
            "  (0, 147752)\t0.03573509961893937\n",
            "  (0, 147062)\t0.040440255332334835\n",
            "  :\t:\n",
            "  (72133, 29785)\t0.03496757111189694\n",
            "  (72133, 29340)\t0.026737158625762467\n",
            "  (72133, 29282)\t0.017809773010293673\n",
            "  (72133, 29185)\t0.03248803172226427\n",
            "  (72133, 27858)\t0.02579854038549601\n",
            "  (72133, 27359)\t0.03738173427459599\n",
            "  (72133, 27181)\t0.022769223202918507\n",
            "  (72133, 27043)\t0.018377738629141455\n",
            "  (72133, 25962)\t0.25746102111165503\n",
            "  (72133, 24500)\t0.06299677334798402\n",
            "  (72133, 23279)\t0.021826587242129877\n",
            "  (72133, 22780)\t0.0809405466800534\n",
            "  (72133, 21429)\t0.03495925181983722\n",
            "  (72133, 20844)\t0.039328367317362715\n",
            "  (72133, 19775)\t0.02445968867890476\n",
            "  (72133, 15629)\t0.19586158552248792\n",
            "  (72133, 14209)\t0.026069445200930033\n",
            "  (72133, 14072)\t0.026397151222945472\n",
            "  (72133, 13845)\t0.035144211923986944\n",
            "  (72133, 12917)\t0.02791304416125297\n",
            "  (72133, 11312)\t0.046035514938525264\n",
            "  (72133, 11302)\t0.06386618528006986\n",
            "  (72133, 10544)\t0.05921122285401357\n",
            "  (72133, 6489)\t0.041391214716236344\n",
            "  (72133, 4366)\t0.029629495477699296\n"
          ]
        }
      ],
      "source": [
        "print(X)"
      ]
    },
    {
      "cell_type": "markdown",
      "metadata": {
        "id": "mKBRGiSQ7YCZ"
      },
      "source": [
        "Splitting the dataset to training & test data"
      ]
    },
    {
      "cell_type": "code",
      "execution_count": null,
      "metadata": {
        "id": "VjMYwmBo7Pbx"
      },
      "outputs": [],
      "source": [
        "X_train, X_test, Y_train, Y_test = train_test_split(X, Y, test_size = 0.2, stratify=Y, random_state=2)"
      ]
    },
    {
      "cell_type": "markdown",
      "metadata": {
        "id": "rxDsQvgO8Oln"
      },
      "source": [
        "Training the Model: Logistic Regression"
      ]
    },
    {
      "cell_type": "code",
      "execution_count": null,
      "metadata": {
        "id": "HrSItcqc7qAy"
      },
      "outputs": [],
      "source": [
        "model = LogisticRegression()"
      ]
    },
    {
      "cell_type": "code",
      "execution_count": null,
      "metadata": {
        "colab": {
          "base_uri": "https://localhost:8080/"
        },
        "id": "fdVJ839l8Vgx",
        "outputId": "129fab6a-f9d5-4ef8-eecf-93206f1e1e41"
      },
      "outputs": [
        {
          "data": {
            "text/html": [
              "<style>#sk-container-id-1 {color: black;}#sk-container-id-1 pre{padding: 0;}#sk-container-id-1 div.sk-toggleable {background-color: white;}#sk-container-id-1 label.sk-toggleable__label {cursor: pointer;display: block;width: 100%;margin-bottom: 0;padding: 0.3em;box-sizing: border-box;text-align: center;}#sk-container-id-1 label.sk-toggleable__label-arrow:before {content: \"▸\";float: left;margin-right: 0.25em;color: #696969;}#sk-container-id-1 label.sk-toggleable__label-arrow:hover:before {color: black;}#sk-container-id-1 div.sk-estimator:hover label.sk-toggleable__label-arrow:before {color: black;}#sk-container-id-1 div.sk-toggleable__content {max-height: 0;max-width: 0;overflow: hidden;text-align: left;background-color: #f0f8ff;}#sk-container-id-1 div.sk-toggleable__content pre {margin: 0.2em;color: black;border-radius: 0.25em;background-color: #f0f8ff;}#sk-container-id-1 input.sk-toggleable__control:checked~div.sk-toggleable__content {max-height: 200px;max-width: 100%;overflow: auto;}#sk-container-id-1 input.sk-toggleable__control:checked~label.sk-toggleable__label-arrow:before {content: \"▾\";}#sk-container-id-1 div.sk-estimator input.sk-toggleable__control:checked~label.sk-toggleable__label {background-color: #d4ebff;}#sk-container-id-1 div.sk-label input.sk-toggleable__control:checked~label.sk-toggleable__label {background-color: #d4ebff;}#sk-container-id-1 input.sk-hidden--visually {border: 0;clip: rect(1px 1px 1px 1px);clip: rect(1px, 1px, 1px, 1px);height: 1px;margin: -1px;overflow: hidden;padding: 0;position: absolute;width: 1px;}#sk-container-id-1 div.sk-estimator {font-family: monospace;background-color: #f0f8ff;border: 1px dotted black;border-radius: 0.25em;box-sizing: border-box;margin-bottom: 0.5em;}#sk-container-id-1 div.sk-estimator:hover {background-color: #d4ebff;}#sk-container-id-1 div.sk-parallel-item::after {content: \"\";width: 100%;border-bottom: 1px solid gray;flex-grow: 1;}#sk-container-id-1 div.sk-label:hover label.sk-toggleable__label {background-color: #d4ebff;}#sk-container-id-1 div.sk-serial::before {content: \"\";position: absolute;border-left: 1px solid gray;box-sizing: border-box;top: 0;bottom: 0;left: 50%;z-index: 0;}#sk-container-id-1 div.sk-serial {display: flex;flex-direction: column;align-items: center;background-color: white;padding-right: 0.2em;padding-left: 0.2em;position: relative;}#sk-container-id-1 div.sk-item {position: relative;z-index: 1;}#sk-container-id-1 div.sk-parallel {display: flex;align-items: stretch;justify-content: center;background-color: white;position: relative;}#sk-container-id-1 div.sk-item::before, #sk-container-id-1 div.sk-parallel-item::before {content: \"\";position: absolute;border-left: 1px solid gray;box-sizing: border-box;top: 0;bottom: 0;left: 50%;z-index: -1;}#sk-container-id-1 div.sk-parallel-item {display: flex;flex-direction: column;z-index: 1;position: relative;background-color: white;}#sk-container-id-1 div.sk-parallel-item:first-child::after {align-self: flex-end;width: 50%;}#sk-container-id-1 div.sk-parallel-item:last-child::after {align-self: flex-start;width: 50%;}#sk-container-id-1 div.sk-parallel-item:only-child::after {width: 0;}#sk-container-id-1 div.sk-dashed-wrapped {border: 1px dashed gray;margin: 0 0.4em 0.5em 0.4em;box-sizing: border-box;padding-bottom: 0.4em;background-color: white;}#sk-container-id-1 div.sk-label label {font-family: monospace;font-weight: bold;display: inline-block;line-height: 1.2em;}#sk-container-id-1 div.sk-label-container {text-align: center;}#sk-container-id-1 div.sk-container {/* jupyter's `normalize.less` sets `[hidden] { display: none; }` but bootstrap.min.css set `[hidden] { display: none !important; }` so we also need the `!important` here to be able to override the default hidden behavior on the sphinx rendered scikit-learn.org. See: https://github.com/scikit-learn/scikit-learn/issues/21755 */display: inline-block !important;position: relative;}#sk-container-id-1 div.sk-text-repr-fallback {display: none;}</style><div id=\"sk-container-id-1\" class=\"sk-top-container\"><div class=\"sk-text-repr-fallback\"><pre>LogisticRegression()</pre><b>In a Jupyter environment, please rerun this cell to show the HTML representation or trust the notebook. <br />On GitHub, the HTML representation is unable to render, please try loading this page with nbviewer.org.</b></div><div class=\"sk-container\" hidden><div class=\"sk-item\"><div class=\"sk-estimator sk-toggleable\"><input class=\"sk-toggleable__control sk-hidden--visually\" id=\"sk-estimator-id-1\" type=\"checkbox\" checked><label for=\"sk-estimator-id-1\" class=\"sk-toggleable__label sk-toggleable__label-arrow\">LogisticRegression</label><div class=\"sk-toggleable__content\"><pre>LogisticRegression()</pre></div></div></div></div></div>"
            ],
            "text/plain": [
              "LogisticRegression()"
            ]
          },
          "execution_count": 37,
          "metadata": {},
          "output_type": "execute_result"
        }
      ],
      "source": [
        "model.fit(X_train, Y_train)"
      ]
    },
    {
      "cell_type": "markdown",
      "metadata": {
        "id": "sbPKIFT89W1C"
      },
      "source": [
        "Evaluation"
      ]
    },
    {
      "cell_type": "markdown",
      "metadata": {
        "id": "YG6gqVty9ZDB"
      },
      "source": [
        "accuracy score"
      ]
    },
    {
      "cell_type": "code",
      "execution_count": null,
      "metadata": {
        "id": "VgwtWZY59PBw"
      },
      "outputs": [],
      "source": [
        "# accuracy score on the training data\n",
        "X_train_prediction = model.predict(X_train)\n",
        "training_data_accuracy = accuracy_score(X_train_prediction, Y_train)"
      ]
    },
    {
      "cell_type": "code",
      "execution_count": null,
      "metadata": {
        "colab": {
          "base_uri": "https://localhost:8080/"
        },
        "id": "4L-r5mld-BFn",
        "outputId": "c662ccad-b5be-4f0c-e087-f8785e1a9141"
      },
      "outputs": [
        {
          "name": "stdout",
          "output_type": "stream",
          "text": [
            "Accuracy score of the training data :  0.9632107023411371\n"
          ]
        }
      ],
      "source": [
        "print('Accuracy score of the training data : ', training_data_accuracy)"
      ]
    },
    {
      "cell_type": "code",
      "execution_count": null,
      "metadata": {
        "id": "Kgcn13oO-H6e"
      },
      "outputs": [],
      "source": [
        "# accuracy score on the test data\n",
        "X_test_prediction = model.predict(X_test)\n",
        "test_data_accuracy = accuracy_score(X_test_prediction, Y_test)"
      ]
    },
    {
      "cell_type": "code",
      "execution_count": null,
      "metadata": {
        "colab": {
          "base_uri": "https://localhost:8080/"
        },
        "id": "9TG0Yof1-vg2",
        "outputId": "db5ab627-52bf-487c-df79-8d94647ffbe3"
      },
      "outputs": [
        {
          "name": "stdout",
          "output_type": "stream",
          "text": [
            "Accuracy score of the test data :  0.9486379704720316\n"
          ]
        }
      ],
      "source": [
        "print('Accuracy score of the test data : ', test_data_accuracy)"
      ]
    },
    {
      "cell_type": "markdown",
      "metadata": {
        "id": "Yun4seaE-6tV"
      },
      "source": [
        "Making a Predictive System"
      ]
    },
    {
      "cell_type": "code",
      "execution_count": null,
      "metadata": {
        "colab": {
          "base_uri": "https://localhost:8080/"
        },
        "id": "lPjssDL_-zo8",
        "outputId": "b8bcac5b-bab1-426c-ad89-d4791b411e31"
      },
      "outputs": [
        {
          "name": "stdout",
          "output_type": "stream",
          "text": [
            "[0]\n",
            "The news is Real\n"
          ]
        }
      ],
      "source": [
        "X_new = X_test[3]\n",
        "\n",
        "prediction = model.predict(X_new)\n",
        "print(prediction)\n",
        "\n",
        "if (prediction[0]==0):\n",
        "  print('The news is Real')\n",
        "else:\n",
        "  print('The news is Fake')"
      ]
    },
    {
      "cell_type": "code",
      "execution_count": null,
      "metadata": {
        "colab": {
          "base_uri": "https://localhost:8080/"
        },
        "id": "8KaWdvDI_eUk",
        "outputId": "49cf7c89-08b0-4ce3-8510-82efa7447d54"
      },
      "outputs": [
        {
          "name": "stdout",
          "output_type": "stream",
          "text": [
            "0\n"
          ]
        }
      ],
      "source": [
        "print(Y_test[3])"
      ]
    },
    {
      "cell_type": "code",
      "execution_count": null,
      "metadata": {
        "id": "JBbWkLGr_lb_"
      },
      "outputs": [],
      "source": []
    }
  ],
  "metadata": {
    "colab": {
      "provenance": []
    },
    "kernelspec": {
      "display_name": "Python 3",
      "name": "python3"
    },
    "language_info": {
      "codemirror_mode": {
        "name": "ipython",
        "version": 3
      },
      "file_extension": ".py",
      "mimetype": "text/x-python",
      "name": "python",
      "nbconvert_exporter": "python",
      "pygments_lexer": "ipython3",
      "version": "3.11.6"
    }
  },
  "nbformat": 4,
  "nbformat_minor": 0
}
